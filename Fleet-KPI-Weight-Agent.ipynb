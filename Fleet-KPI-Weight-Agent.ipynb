{
 "cells": [
  {
   "cell_type": "code",
   "execution_count": null,
   "id": "43776aab",
   "metadata": {},
   "outputs": [],
   "source": [
    "import os\n",
    "os.environ[\"OPENAI_API_KEY\"] = \"\"\n"
   ]
  },
  {
   "cell_type": "code",
   "execution_count": 2,
   "id": "b9c89ea8",
   "metadata": {},
   "outputs": [],
   "source": [
    "from langchain.prompts import ChatPromptTemplate\n",
    "from langchain.chat_models import ChatOpenAI\n",
    "\n",
    "system_prompt_nl = \"\"\"\n",
    "You are a Fleet Maintenance & Operations Expert and AI Assistant. Your job is to convert business goals, written in plain language, into a weighted KPI scorecard.\n",
    " \n",
    "You will be given:\n",
    " \n",
    "- A list of KPIs (with labels that match internal data fields)\n",
    "- A human-written business requirements statement\n",
    " \n",
    "To improve your understanding, here is the internal reference for KPI definitions and formulas:\n",
    " \n",
    "1. Avg_Maintenance_Working_Time_Hours: The average duration of maintenance work orders of a vehicle per year.\n",
    "   Formula: Σ(DOWNTIME_HRS_SHOP) / Count(UNIQUE_WORK_ORDER_NO)\n",
    " \n",
    "2. Total_Cost: Total annual maintenance cost per vehicle.\n",
    "   Formula: Σ(TOTAL_COST), grouped by EQ_EQUIP_NO\n",
    " \n",
    "3. Unscheduled_Repairs: Total number of unscheduled repair orders.\n",
    "   Formula: Count where JOB_TYPE == 'REPAIR'\n",
    " \n",
    "4. MTBF_Days: Mean time between failures — average time between two breakdowns.\n",
    "   Formula: Σ(CREATE_DATE of JOB_TYPE == 'REPAIR' - previous CREATE_DATE) / Unscheduled Repair Count\n",
    " \n",
    "5. Total_PM: Total number of preventive maintenance orders.\n",
    "   Formula: Count where JOB_TYPE == 'PM'\n",
    " \n",
    "6. Avg_Distance_Post_Maint: The average distance traveled after each maintenance of a vehicle.\n",
    "   Formula: Σ(METER_1_READING difference) / Count(UNIQUE_WORK_ORDER_NO)\n",
    " \n",
    "7. Avg_Downtime_Hours: Average downtime of a vehicle per year.\n",
    "   Formula: Σ(DATETIME_FINISHED - DATETIME_OUT_SERVICE) / Count(UNIQUE_WORK_ORDER_NO)\n",
    " \n",
    "Your task:\n",
    " \n",
    "1. Interpret the priorities and concerns in the business message.\n",
    "2. Assign importance weights to each KPI (numeric values between 0 and 100) according to the business goals.\n",
    "3. Ensure the final weights:\n",
    "   - Sum exactly to 100\n",
    "   - Include a weight for every KPI listed above\n",
    "   - Are numeric and appropriate for the described goals\n",
    "4. Return:\n",
    "   - A JSON object called \"weights\" with weights for each KPI.\n",
    "   - A JSON object called \"explanations\" with a 1-2 sentence justification for each weight.\n",
    "5. Optionally include an ordered weight vector for downstream systems.\n",
    " \n",
    "Always follow the user's business intent — even if they don’t use technical language.\n",
    "\"\"\"\n",
    "\n",
    "natural_language_prompt = ChatPromptTemplate.from_messages([\n",
    "    (\"system\", system_prompt_nl),\n",
    "    (\"human\", \"Here is the current KPI list:\\n\\n{kpi_list}\\n\\n\"\n",
    "              \"Now here's the business requirement, written by a stakeholder:\\n\\n\\\"\\\"\\\"\\n{business_requirement}\\n\\\"\\\"\\\"\\n\\n\"\n",
    "              \"Please generate a set of KPI weights that reflect these goals, explain your reasoning, and return the result as a JSON.\")\n",
    "])\n"
   ]
  },
  {
   "cell_type": "code",
   "execution_count": 34,
   "id": "73fc3fa4",
   "metadata": {},
   "outputs": [],
   "source": [
    "from langchain_openai import ChatOpenAI\n",
    "\n",
    "# Define your JSON schema\n",
    "kpi_schema = {\n",
    "    \"title\": \"KPIWeightAnalysis\",\n",
    "    \"type\": \"object\",\n",
    "    \"properties\": {\n",
    "        \"weights\": {\n",
    "            \"type\": \"object\",\n",
    "            \"description\": \"A dictionary mapping each KPI name to a float weight out of 100\",\n",
    "            \"additionalProperties\": {\n",
    "                \"type\": \"number\"\n",
    "            }\n",
    "        },\n",
    "        \"explanations\": {\n",
    "            \"type\": \"object\",\n",
    "            \"description\": \"A dictionary with KPI names and brief justifications for their weights\",\n",
    "            \"additionalProperties\": {\n",
    "                \"type\": \"string\"\n",
    "            }\n",
    "        },\n",
    "        \"ordered_weights\": {\n",
    "            \"type\": \"array\",\n",
    "            \"description\": \"List of weights in the same order as given KPIs\",\n",
    "            \"items\": {\n",
    "                \"type\": \"number\",\n",
    "                \"minimum\": 0,\n",
    "                \"maximum\": 100\n",
    "            }\n",
    "        }\n",
    "    },\n",
    "    \"required\": [\"weights\", \"explanations\", \"ordered_weights\"]\n",
    "}\n"
   ]
  },
  {
   "cell_type": "code",
   "execution_count": null,
   "id": "c100c43a",
   "metadata": {},
   "outputs": [],
   "source": []
  },
  {
   "cell_type": "code",
   "execution_count": 35,
   "id": "77b9ea7e",
   "metadata": {},
   "outputs": [],
   "source": [
    "def natural_language_kpi_node(state: dict):\n",
    "    kpi_list = state[\"kpi_list\"]\n",
    "    business_requirement = state[\"business_requirement\"]\n",
    "\n",
    "    messages = natural_language_prompt.format_messages(\n",
    "        kpi_list=kpi_list,\n",
    "        business_requirement=business_requirement\n",
    "    )\n",
    "\n",
    "    # Use the structured output with JSON schema\n",
    "    llm = ChatOpenAI(model=\"gpt-4o-mini\").with_structured_output(schema=kpi_schema)\n",
    "    structured_result = llm.invoke(messages)\n",
    "\n",
    "    return {\"adjusted_weights_natural\": structured_result}\n"
   ]
  },
  {
   "cell_type": "code",
   "execution_count": 36,
   "id": "96c3ab78",
   "metadata": {},
   "outputs": [],
   "source": [
    "from langgraph.graph import StateGraph\n",
    "\n",
    "graph_builder = StateGraph(dict)\n",
    "graph_builder.add_node(\"NaturalLangWeightAdjust\", natural_language_kpi_node)\n",
    "graph_builder.set_entry_point(\"NaturalLangWeightAdjust\")\n",
    "graph_builder.set_finish_point(\"NaturalLangWeightAdjust\")\n",
    "\n",
    "graph_nl = graph_builder.compile()\n"
   ]
  },
  {
   "cell_type": "code",
   "execution_count": 38,
   "id": "02998eb9",
   "metadata": {},
   "outputs": [
    {
     "data": {
      "text/plain": [
       "{'adjusted_weights_natural': {'weights': {'Avg_Maintenance_Working_Time_Hours': 5,\n",
       "   'Total_Cost': 25,\n",
       "   'Unscheduled_Repairs': 20,\n",
       "   'MTBF_Days': 20,\n",
       "   'Total_PM': 20,\n",
       "   'Avg_Distance_Post_Maint': 5,\n",
       "   'Avg_Downtime_Hours': 5},\n",
       "  'explanations': {'Avg_Maintenance_Working_Time_Hours': 'Given the emphasis on reducing downtime, the time taken for maintenance is less critical and receives the lowest weight.',\n",
       "   'Total_Cost': 'Maintaining financial considerations is essential so this KPI gets a moderate weight to ensure cost management is considered.',\n",
       "   'Unscheduled_Repairs': 'Given the urgent need to reduce unexpected repairs, this KPI is heavily weighted to reflect its importance in maintaining productivity and client trust.',\n",
       "   'MTBF_Days': 'This KPI serves as a measure of vehicle reliability; increased MTBF is crucial for minimizing breakdowns, thus it holds high importance.',\n",
       "   'Total_PM': 'Focusing on preventive maintenance is essential to tackle breakdowns effectively, justifying a significant weight for this KPI.',\n",
       "   'Avg_Distance_Post_Maint': 'Vehicle distance post-maintenance does not address the immediate concerns raised, so it receives a low weight.',\n",
       "   'Avg_Downtime_Hours': 'Minimizing downtime is of utmost priority; however, as it was indirectly implied in other KPIs, it receives a lower weight.'},\n",
       "  'ordered_weights': [5, 25, 20, 20, 20, 5, 5]}}"
      ]
     },
     "execution_count": 38,
     "metadata": {},
     "output_type": "execute_result"
    }
   ],
   "source": [
    "input_natural = {\n",
    "    \"kpi_list\": '{ \"Avg_Maintenance_Working_Time_Hours\": 0.153279303, \"Total_Cost\": 0.158574872, \"Unscheduled_Repairs\": 0.143271754, \"MTBF_Days\": 0.159661443, \"Total_PM\": 0.139025173, \"Avg_Distance_Post_Maint\": 0.092867917, \"Avg_Downtime_Hours\": 0.153319536 }',\n",
    "    \"business_requirement\": \"\"\"\n",
    "Downtime is killing productivity — we need to reduce it urgently.\n",
    "Repairs that happen without warning are expensive and hurt trust with clients.\n",
    "We also want to focus more on preventive maintenance to reduce those breakdowns.\n",
    "Of course, total cost still matters.\n",
    "We're less concerned about how long the work takes or how far vehicles go afterward.\n",
    "\"\"\"\n",
    "}\n",
    "\n",
    "result = graph_nl.invoke(input_natural)\n",
    "result\n",
    "# print(json.dumps(result[\"adjusted_weights_natural\"], indent=2))"
   ]
  }
 ],
 "metadata": {
  "kernelspec": {
   "display_name": "base",
   "language": "python",
   "name": "python3"
  },
  "language_info": {
   "codemirror_mode": {
    "name": "ipython",
    "version": 3
   },
   "file_extension": ".py",
   "mimetype": "text/x-python",
   "name": "python",
   "nbconvert_exporter": "python",
   "pygments_lexer": "ipython3",
   "version": "3.11.7"
  }
 },
 "nbformat": 4,
 "nbformat_minor": 5
}
